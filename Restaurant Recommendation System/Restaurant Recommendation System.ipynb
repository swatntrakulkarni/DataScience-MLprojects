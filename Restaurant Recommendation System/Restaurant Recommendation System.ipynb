{
 "cells": [
  {
   "cell_type": "code",
   "execution_count": 30,
   "id": "1d3d82f5",
   "metadata": {},
   "outputs": [],
   "source": [
    "# importing modules\n",
    "import requests\n",
    "from bs4 import BeautifulSoup\n",
    "import pandas as pd"
   ]
  },
  {
   "cell_type": "code",
   "execution_count": 31,
   "id": "cd97cffc",
   "metadata": {},
   "outputs": [
    {
     "name": "stdout",
     "output_type": "stream",
     "text": [
      "Enter your city name : varanasi\n"
     ]
    }
   ],
   "source": [
    "city = input('Enter your city name : ')\n",
    "url = 'https://www.zomato.com/'+city+'/top-restaurants'\n",
    "header = {'User-Agent': 'Mozilla/5.0 (Windows NT 10.0; Win64; x64) AppleWebKit/537.36 (KHTML, like Gecko) Chrome/80.0.3987.122 Safari/537.36'}\n"
   ]
  },
  {
   "cell_type": "code",
   "execution_count": 32,
   "id": "48c63d1f",
   "metadata": {},
   "outputs": [],
   "source": [
    "response = requests.get(url,headers=header)\n",
    "html = response.text"
   ]
  },
  {
   "cell_type": "code",
   "execution_count": 53,
   "id": "264df4a7",
   "metadata": {},
   "outputs": [
    {
     "name": "stdout",
     "output_type": "stream",
     "text": [
      "Top Restaurants in Varanasi | Zomato \n",
      "\n"
     ]
    }
   ],
   "source": [
    "soup = BeautifulSoup(html,'lxml')\n",
    "print(soup.title.text,'\\n')"
   ]
  },
  {
   "cell_type": "code",
   "execution_count": 54,
   "id": "207061bc",
   "metadata": {},
   "outputs": [],
   "source": [
    "# scraping raw data and stroing it in a array"
   ]
  },
  {
   "cell_type": "code",
   "execution_count": 55,
   "id": "ed9ad00d",
   "metadata": {},
   "outputs": [],
   "source": [
    "top_rest = soup.find_all('div',class_=\"bke1zw-0 cMipmx\")\n",
    "arr = [100]\n",
    "\n",
    "for tr in top_rest:\n",
    "\trsts = tr.find_all('div',class_=\"bke1zw-1\")\n",
    "\tfor i in rsts:\n",
    "\t\tname = i.select('a',class_='sc-muxYx sc-euitrJ hIVRVA')\n",
    "\t\tfor k in name:\n",
    "\t\t\tarr.append(k.text)\n",
    "\tbreak"
   ]
  },
  {
   "cell_type": "code",
   "execution_count": 56,
   "id": "86cadfb4",
   "metadata": {},
   "outputs": [],
   "source": [
    "# print(arr)"
   ]
  },
  {
   "cell_type": "code",
   "execution_count": 57,
   "id": "100895a3",
   "metadata": {},
   "outputs": [],
   "source": [
    "# rearranging restaurant data in a single list"
   ]
  },
  {
   "cell_type": "code",
   "execution_count": 58,
   "id": "4ee47e41",
   "metadata": {},
   "outputs": [],
   "source": [
    "data = []\n",
    "temp = [arr[0]]\n",
    "for i in arr[1:]:\n",
    "\tif i.replace('.','',1).isdigit():\n",
    "\t\tdata.append(temp)\n",
    "\t\ttemp = [i]\n",
    "\telse:\n",
    "\t\ttemp.append(i)"
   ]
  },
  {
   "cell_type": "code",
   "execution_count": 59,
   "id": "923d4634",
   "metadata": {},
   "outputs": [],
   "source": [
    "# print(data)"
   ]
  },
  {
   "cell_type": "code",
   "execution_count": 60,
   "id": "c85cccb4",
   "metadata": {},
   "outputs": [],
   "source": [
    "# strong different attributes in 4 lists"
   ]
  },
  {
   "cell_type": "code",
   "execution_count": 61,
   "id": "fd46ffb4",
   "metadata": {},
   "outputs": [],
   "source": [
    "restraunts = []\n",
    "address = []\n",
    "cuisine = []\n",
    "ratings = []"
   ]
  },
  {
   "cell_type": "code",
   "execution_count": 51,
   "id": "35616a86",
   "metadata": {},
   "outputs": [],
   "source": [
    "for lst in data:\n",
    "\tratings.append(lst[0])\n",
    "\trestraunts.append(lst[1])\n",
    "\taddress.append(lst[2])\n",
    "\tcuisine.append(','.join(lst[3:]))"
   ]
  },
  {
   "cell_type": "code",
   "execution_count": 52,
   "id": "4da9ffdb",
   "metadata": {},
   "outputs": [
    {
     "name": "stdout",
     "output_type": "stream",
     "text": [
      "Empty DataFrame\n",
      "Columns: [Restraunt, Address, Cuisine, Ratings]\n",
      "Index: []\n"
     ]
    }
   ],
   "source": [
    "header = ['Restraunt','Address','Cuisine','Ratings']\n",
    "indices = [i for i in range(1,len(restraunts)+1)]\n",
    "all_rests = zip(restraunts,address,cuisine,ratings)\n",
    "df = pd.DataFrame(list(all_rests),index=indices,columns=header)\n",
    "df.to_csv('Top restraunts in '+city+'.csv')\n",
    "print(df)"
   ]
  },
  {
   "cell_type": "code",
   "execution_count": null,
   "id": "eca0ddd7",
   "metadata": {},
   "outputs": [],
   "source": []
  },
  {
   "cell_type": "code",
   "execution_count": null,
   "id": "3785cb9a",
   "metadata": {},
   "outputs": [],
   "source": []
  },
  {
   "cell_type": "code",
   "execution_count": null,
   "id": "6c2249e1",
   "metadata": {},
   "outputs": [],
   "source": []
  }
 ],
 "metadata": {
  "kernelspec": {
   "display_name": "Python 3 (ipykernel)",
   "language": "python",
   "name": "python3"
  },
  "language_info": {
   "codemirror_mode": {
    "name": "ipython",
    "version": 3
   },
   "file_extension": ".py",
   "mimetype": "text/x-python",
   "name": "python",
   "nbconvert_exporter": "python",
   "pygments_lexer": "ipython3",
   "version": "3.9.7"
  }
 },
 "nbformat": 4,
 "nbformat_minor": 5
}
